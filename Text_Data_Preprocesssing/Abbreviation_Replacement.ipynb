{
 "cells": [
  {
   "cell_type": "code",
   "execution_count": 1,
   "id": "415a59f5",
   "metadata": {},
   "outputs": [],
   "source": [
    "import pandas as pd\n",
    "import re\n",
    "\n",
    "# 读取Abbreviation_List.xlsx\n",
    "abbreviations_df = pd.read_excel('Abbreviation_List.xlsx', header=None, usecols=[0, 1],\n",
    "                                 names=['Abbreviation', 'FullForm'], skiprows=1)\n",
    "\n",
    "# 读取data for Xinyan inc details.xlsx\n",
    "data_df = pd.read_excel('data for Xinyan inc details.xlsx', header=None, usecols=[1], names=['details'], skiprows=1)\n",
    "# 读取data for Xinyan inc details.xlsx的第一列为标题\n",
    "data_df['incident_number'] = pd.read_excel('data for Xinyan inc details.xlsx', header=None, usecols=[0],\n",
    "                                           names=['incident_number'],\n",
    "                                           skiprows=1)\n",
    "\n",
    "# 将NaN值处理为空字符串\n",
    "data_df['details'] = data_df['details'].fillna('')\n",
    "\n",
    "# 创建一个字典，将缩写映射到全拼\n",
    "abbreviation_dict = dict(zip(abbreviations_df['Abbreviation'], abbreviations_df['FullForm']))\n",
    "\n",
    "\n",
    "# 定义一个函数来替换缩写\n",
    "def replace_abbreviations(text):\n",
    "    if '_x0001_' in text:\n",
    "        text = text.replace('_x0001_', ' ')\n",
    "    # 遍历字典中的每个缩写并替换为全拼,不区分大小写\n",
    "    for abbreviation, full_form in abbreviation_dict.items():\n",
    "        escaped_abbreviation = re.escape(abbreviation)\n",
    "        text = re.sub(r'\\b{}\\b'.format(escaped_abbreviation), full_form, text, flags=re.IGNORECASE)\n",
    "    return text\n",
    "\n",
    "\n",
    "# 使用自定义函数替换文本列\n",
    "data_df['details'] = data_df['details'].apply(replace_abbreviations)\n",
    "\n",
    "# 将结果写入新的Excel文件，先写入incident_number列，然后是details列\n",
    "data_df.to_excel('OUTPUT.xlsx', index=False, columns=['incident_number', 'details'])\n",
    "\n"
   ]
  },
  {
   "cell_type": "code",
   "execution_count": 2,
   "id": "e502de0f",
   "metadata": {},
   "outputs": [
    {
     "data": {
      "text/plain": [
       "0    CALLER HEARD A BANG IN THE GARDEN AND NOW THER...\n",
       "1        SMOKE COMING UNDER FOOTPATH  OFF CHAUCER ROAD\n",
       "2    LARGE VAN GONE INTO THE BACK OF A BUS  FUEL LE...\n",
       "3      risk based crewing 3 NEIGHBOURS CAR ON DRIVEWAY\n",
       "4                                     NO SMOKE OR FIRE\n",
       "Name: details, dtype: object"
      ]
     },
     "execution_count": 2,
     "metadata": {},
     "output_type": "execute_result"
    }
   ],
   "source": [
    "data_df['details'].head()"
   ]
  }
 ],
 "metadata": {
  "kernelspec": {
   "display_name": "Python 3 (ipykernel)",
   "language": "python",
   "name": "python3"
  },
  "language_info": {
   "codemirror_mode": {
    "name": "ipython",
    "version": 3
   },
   "file_extension": ".py",
   "mimetype": "text/x-python",
   "name": "python",
   "nbconvert_exporter": "python",
   "pygments_lexer": "ipython3",
   "version": "3.10.9"
  }
 },
 "nbformat": 4,
 "nbformat_minor": 5
}
