{
 "cells": [
  {
   "cell_type": "code",
   "execution_count": 1,
   "metadata": {
    "collapsed": false,
    "pycharm": {
     "name": "#%%\n"
    }
   },
   "outputs": [],
   "source": [
    "import pandas as pd\n",
    "from transformers import BertTokenizer, BertModel\n",
    "from sklearn.ensemble import RandomForestClassifier\n",
    "from sklearn.neighbors import KNeighborsClassifier\n",
    "from sklearn.metrics import classification_report\n",
    "from sklearn.metrics import accuracy_score\n",
    "import torch"
   ]
  },
  {
   "cell_type": "code",
   "execution_count": 2,
   "metadata": {
    "collapsed": false,
    "pycharm": {
     "name": "#%%\n"
    }
   },
   "outputs": [],
   "source": [
    "# 载入数据\n",
    "data = pd.read_csv(\"classification_with_GIS.csv\")  # 替换为您的数据集文件路径\n",
    "data = data[['details','classification', 'pixel_value', 'suitability']]"
   ]
  },
  {
   "cell_type": "code",
   "execution_count": 3,
   "metadata": {
    "collapsed": false,
    "pycharm": {
     "name": "#%%\n"
    }
   },
   "outputs": [
    {
     "name": "stderr",
     "output_type": "stream",
     "text": [
      "Some weights of the model checkpoint at bert-base-uncased were not used when initializing BertModel: ['cls.predictions.transform.dense.weight', 'cls.seq_relationship.weight', 'cls.predictions.transform.dense.bias', 'cls.predictions.decoder.weight', 'cls.predictions.bias', 'cls.seq_relationship.bias', 'cls.predictions.transform.LayerNorm.bias', 'cls.predictions.transform.LayerNorm.weight']\n",
      "- This IS expected if you are initializing BertModel from the checkpoint of a model trained on another task or with another architecture (e.g. initializing a BertForSequenceClassification model from a BertForPreTraining model).\n",
      "- This IS NOT expected if you are initializing BertModel from the checkpoint of a model that you expect to be exactly identical (initializing a BertForSequenceClassification model from a BertForSequenceClassification model).\n"
     ]
    }
   ],
   "source": [
    "# 删除包含缺失值的行\n",
    "data = data.dropna()\n",
    "# 加载BERT模型和分词器\n",
    "tokenizer = BertTokenizer.from_pretrained('bert-base-uncased')\n",
    "model = BertModel.from_pretrained('bert-base-uncased')"
   ]
  },
  {
   "cell_type": "code",
   "execution_count": 4,
   "metadata": {
    "collapsed": false,
    "pycharm": {
     "name": "#%%\n"
    }
   },
   "outputs": [],
   "source": [
    "details = data['details']\n",
    "labels = data['classification']"
   ]
  },
  {
   "cell_type": "code",
   "execution_count": 5,
   "metadata": {
    "collapsed": false,
    "pycharm": {
     "name": "#%%\n"
    }
   },
   "outputs": [
    {
     "name": "stderr",
     "output_type": "stream",
     "text": [
      "Truncation was not explicitly activated but `max_length` is provided a specific value, please use `truncation=True` to explicitly truncate examples to max length. Defaulting to 'longest_first' truncation strategy. If you encode pairs of sequences (GLUE-style) with the tokenizer you can select this strategy more precisely by providing a specific strategy to `truncation`.\n",
      "f:\\python\\lib\\site-packages\\transformers\\tokenization_utils_base.py:2354: FutureWarning: The `pad_to_max_length` argument is deprecated and will be removed in a future version, use `padding=True` or `padding='longest'` to pad to the longest sequence in the batch, or use `padding='max_length'` to pad to a max length. In this case, you can give a specific length with `max_length` (e.g. `max_length=45`) or leave max_length to None to pad to the maximal input size of the model (e.g. 512 for Bert).\n",
      "  warnings.warn(\n"
     ]
    }
   ],
   "source": [
    "# 将文本数据转换成词向量\n",
    "vectors = []\n",
    "for detail in details:\n",
    "    encoded = tokenizer.encode_plus(\n",
    "        detail,\n",
    "        add_special_tokens=True,\n",
    "        max_length=128,\n",
    "        pad_to_max_length=True,\n",
    "        return_attention_mask=True,\n",
    "        return_tensors='pt'\n",
    "    )\n",
    "    with torch.no_grad():\n",
    "        output = model(**encoded)[0][:, 0, :].squeeze().numpy()\n",
    "        vectors.append(output)"
   ]
  },
  {
   "cell_type": "code",
   "execution_count": 6,
   "metadata": {
    "collapsed": false,
    "pycharm": {
     "name": "#%%\n"
    }
   },
   "outputs": [],
   "source": [
    "vectors = pd.DataFrame(vectors)"
   ]
  },
  {
   "cell_type": "code",
   "execution_count": 7,
   "metadata": {
    "collapsed": false,
    "pycharm": {
     "name": "#%%\n"
    }
   },
   "outputs": [],
   "source": [
    "vectors['pixel_value'] = data['pixel_value'].values.tolist()"
   ]
  },
  {
   "cell_type": "code",
   "execution_count": 8,
   "metadata": {
    "collapsed": false,
    "pycharm": {
     "name": "#%%\n"
    }
   },
   "outputs": [
    {
     "name": "stdout",
     "output_type": "stream",
     "text": [
      "Random Forest Classification Report:\n",
      "              precision    recall  f1-score   support\n",
      "\n",
      "     Class 1       0.73      0.61      0.66       406\n",
      "     Class 2       0.81      0.75      0.78      1308\n",
      "     Class 3       0.70      0.53      0.61       580\n",
      "     Class 4       0.78      0.89      0.83      2115\n",
      "\n",
      "    accuracy                           0.78      4409\n",
      "   macro avg       0.76      0.70      0.72      4409\n",
      "weighted avg       0.77      0.78      0.77      4409\n",
      "\n"
     ]
    }
   ],
   "source": [
    "# 训练随机森林模型\n",
    "rf_model = RandomForestClassifier(n_estimators=100)\n",
    "rf_model.fit(vectors.values, labels)\n",
    "rf_preds = rf_model.predict(vectors.values)\n",
    "print('Random Forest Classification Report:')\n",
    "print(classification_report(labels, rf_preds))"
   ]
  },
  {
   "cell_type": "code",
   "execution_count": 9,
   "metadata": {
    "collapsed": false,
    "pycharm": {
     "name": "#%%\n"
    }
   },
   "outputs": [
    {
     "name": "stdout",
     "output_type": "stream",
     "text": [
      "Random Forest Classification Report:\n",
      "              precision    recall  f1-score   support\n",
      "\n",
      "     Class 1       0.75      0.60      0.66       406\n",
      "     Class 2       0.82      0.75      0.78      1308\n",
      "     Class 3       0.69      0.54      0.60       580\n",
      "     Class 4       0.78      0.90      0.83      2115\n",
      "\n",
      "    accuracy                           0.78      4409\n",
      "   macro avg       0.76      0.69      0.72      4409\n",
      "weighted avg       0.78      0.78      0.77      4409\n",
      "\n"
     ]
    }
   ],
   "source": [
    "vectors['suitability'] = data['suitability'].values.tolist()\n",
    "X = vectors.drop('pixel_value',axis=1)\n",
    "X.replace({\"--\":\"0\"},inplace=True)\n",
    "# 训练随机森林模型\n",
    "rf_model = RandomForestClassifier(n_estimators=100)\n",
    "rf_model.fit(X.values, labels)\n",
    "rf_preds = rf_model.predict(X.values)\n",
    "print('Random Forest Classification Report:')\n",
    "print(classification_report(labels, rf_preds))"
   ]
  },
  {
   "cell_type": "code",
   "execution_count": 10,
   "metadata": {
    "collapsed": false,
    "pycharm": {
     "name": "#%%\n"
    }
   },
   "outputs": [
    {
     "name": "stdout",
     "output_type": "stream",
     "text": [
      "Random Forest Classification Report:\n",
      "              precision    recall  f1-score   support\n",
      "\n",
      "     Class 1       0.78      0.57      0.66       406\n",
      "     Class 2       0.81      0.75      0.78      1308\n",
      "     Class 3       0.71      0.52      0.60       580\n",
      "     Class 4       0.77      0.90      0.83      2115\n",
      "\n",
      "    accuracy                           0.78      4409\n",
      "   macro avg       0.77      0.69      0.72      4409\n",
      "weighted avg       0.78      0.78      0.77      4409\n",
      "\n"
     ]
    }
   ],
   "source": [
    "vectors.replace({\"--\":\"0\"},inplace=True)\n",
    "# 训练随机森林模型\n",
    "rf_model = RandomForestClassifier(n_estimators=100)\n",
    "rf_model.fit(vectors.values, labels)\n",
    "rf_preds = rf_model.predict(vectors.values)\n",
    "print('Random Forest Classification Report:')\n",
    "print(classification_report(labels, rf_preds))"
   ]
  },
  {
   "cell_type": "code",
   "execution_count": 10,
   "metadata": {
    "collapsed": false,
    "pycharm": {
     "name": "#%%\n"
    }
   },
   "outputs": [],
   "source": []
  }
 ],
 "metadata": {
  "kernelspec": {
   "display_name": "envGEOG01152",
   "language": "python",
   "name": "python3"
  },
  "language_info": {
   "codemirror_mode": {
    "name": "ipython",
    "version": 2
   },
   "file_extension": ".py",
   "mimetype": "text/x-python",
   "name": "python",
   "nbconvert_exporter": "python",
   "pygments_lexer": "ipython2",
   "version": "3.8.15 | packaged by conda-forge | (default, Nov 22 2022, 08:53:40) \n[Clang 14.0.6 ]"
  },
  "vscode": {
   "interpreter": {
    "hash": "f01306c8ae2ff7ede216f67db867e6ad60c08cda2a2a0a3903cc1068b6655785"
   }
  }
 },
 "nbformat": 4,
 "nbformat_minor": 0
}
