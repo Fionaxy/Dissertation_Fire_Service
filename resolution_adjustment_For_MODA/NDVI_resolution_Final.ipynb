{
 "cells": [
  {
   "cell_type": "code",
   "execution_count": 1,
   "id": "ed4ebe40",
   "metadata": {},
   "outputs": [
    {
     "name": "stdout",
     "output_type": "stream",
     "text": [
      "X-direction resolution: 749.0380211267628 degrees/pixel\n",
      "Y-direction resolution: -745.0254638297582 degrees/pixel\n",
      "X-direction resolution: 402.89166287878913 degrees/pixel\n",
      "Y-direction resolution: -402.4850206896395 degrees/pixel\n",
      "Unable to open the raster data file\n"
     ]
    }
   ],
   "source": [
    "from osgeo import gdal\n",
    "\n",
    "# Migration Preparation - Calculate the required x and y scaling separately\n",
    "raster_dataset = gdal.Open(\"wc2.1_30s_tmax_08.tif\")\n",
    "\n",
    "if raster_dataset is not None:\n",
    "    # Obtain the resolution of the raster data\n",
    "    geotransform = raster_dataset.GetGeoTransform()\n",
    "    x_resolution = geotransform[1]  # X-direction resolution\n",
    "    y_resolution = geotransform[5]  # Y-direction resolution\n",
    "\n",
    "    # Print resolution information\n",
    "    print(f\"X-direction resolution: {x_resolution} degrees/pixel\")\n",
    "    print(f\"Y-direction resolution: {y_resolution} degrees/pixel\")\n",
    "\n",
    "    # Close the raster dataset\n",
    "    raster_dataset = None\n",
    "else:\n",
    "    print(\"Unable to open the raster data file\")\n",
    "\n",
    "# Open the raster data file\n",
    "raster_dataset = gdal.Open(\"NDVI.tif\")\n",
    "\n",
    "if raster_dataset is not None:\n",
    "    # Obtain the resolution of the raster data\n",
    "    geotransform = raster_dataset.GetGeoTransform()\n",
    "    x_resolution2 = geotransform[1]  # X-direction resolution\n",
    "    y_resolution2 = geotransform[5]  # Y-direction resolution\n",
    "\n",
    "    # Print resolution information\n",
    "    print(f\"X-direction resolution: {x_resolution2} degrees/pixel\")\n",
    "    print(f\"Y-direction resolution: {y_resolution2} degrees/pixel\")\n",
    "    print(\"Unable to open the raster data file\")\n"
   ]
  },
  {
   "cell_type": "code",
   "execution_count": 2,
   "id": "d58b48ef",
   "metadata": {},
   "outputs": [
    {
     "name": "stdout",
     "output_type": "stream",
     "text": [
      "1.8591549295774645\n",
      "1.8510638297872342\n"
     ]
    }
   ],
   "source": [
    "scale_factor_x= x_resolution/x_resolution2\n",
    "print(scale_factor_x)\n",
    "\n",
    "scale_factor_y= y_resolution/y_resolution2\n",
    "print(scale_factor_y)"
   ]
  },
  {
   "cell_type": "code",
   "execution_count": 3,
   "id": "430e785d",
   "metadata": {},
   "outputs": [
    {
     "name": "stdout",
     "output_type": "stream",
     "text": [
      "Original X-direction resolution: 402.89166287878913 degrees/pixel\n",
      "Original Y-direction resolution: -402.4850206896395 degrees/pixel\n",
      "New X-direction resolution: 749.0380211267628 degrees/pixel\n",
      "New Y-direction resolution: -745.0254638297582 degrees/pixel\n"
     ]
    }
   ],
   "source": [
    "# Open the raster data file\n",
    "input_raster = gdal.Open(\"NDVI.tif\")\n",
    "\n",
    "if input_raster is not None:\n",
    "    # Obtain the resolution of the raster data\n",
    "    geotransform = input_raster.GetGeoTransform()\n",
    "    x_resolution = geotransform[1]  # X-direction resolution\n",
    "    y_resolution = geotransform[5]  # Y-direction resolution\n",
    "\n",
    "    # Print original resolution information\n",
    "    print(f\"Original X-direction resolution: {x_resolution} degrees/pixel\")\n",
    "    print(f\"Original Y-direction resolution: {y_resolution} degrees/pixel\")\n",
    "\n",
    "    # Calculate a scaling factor of 2\n",
    "    # 2.0 represents doubling the size\n",
    "    new_x_resolution = x_resolution * scale_factor_x\n",
    "    new_y_resolution = y_resolution * scale_factor_y\n",
    "\n",
    "    # Print new resolution information\n",
    "    print(f\"New X-direction resolution: {new_x_resolution} degrees/pixel\")\n",
    "    print(f\"New Y-direction resolution: {new_y_resolution} degrees/pixel\")\n",
    "\n",
    "    # Output file path\n",
    "    output_path = \"enlarged_output4.tif\"\n",
    "\n",
    "    # Use gdal.Warp function to upscale with the new resolution\n",
    "    output_raster = gdal.Warp(output_path, input_raster, xRes=new_x_resolution, yRes=new_y_resolution)\n",
    "\n",
    "    # Close datasets\n",
    "    input_raster = None\n",
    "    output_raster = None\n",
    "else:\n",
    "    print(\"Unable to open the raster data file\")\n"
   ]
  },
  {
   "cell_type": "code",
   "execution_count": 4,
   "id": "e2ce48f7",
   "metadata": {},
   "outputs": [
    {
     "name": "stdout",
     "output_type": "stream",
     "text": [
      "X-direction resolution: 749.0380211267628 degrees/pixel\n",
      "Y-direction resolution: -745.0254638297582 degrees/pixel\n"
     ]
    }
   ],
   "source": [
    "# Validation\n",
    "# Migration Preparation - Calculate the required x and y scaling separately\n",
    "raster_dataset = gdal.Open(\"enlarged_output4.tif\")\n",
    "\n",
    "if raster_dataset is not None:\n",
    "    # Obtain the resolution of the raster data\n",
    "    geotransform = raster_dataset.GetGeoTransform()\n",
    "    x_resolution = geotransform[1]  # X-direction resolution\n",
    "    y_resolution = geotransform[5]  # Y-direction resolution\n",
    "\n",
    "    # Print resolution information\n",
    "    print(f\"X-direction resolution: {x_resolution} degrees/pixel\")\n",
    "    print(f\"Y-direction resolution: {y_resolution} degrees/pixel\")\n",
    "\n",
    "    # Close the raster dataset\n",
    "    raster_dataset = None\n",
    "else:\n",
    "    print(\"Unable to open the raster data file\")\n"
   ]
  },
  {
   "cell_type": "code",
   "execution_count": null,
   "id": "a7cb53d9",
   "metadata": {},
   "outputs": [],
   "source": []
  }
 ],
 "metadata": {
  "kernelspec": {
   "display_name": "Python 3 (ipykernel)",
   "language": "python",
   "name": "python3"
  },
  "language_info": {
   "codemirror_mode": {
    "name": "ipython",
    "version": 3
   },
   "file_extension": ".py",
   "mimetype": "text/x-python",
   "name": "python",
   "nbconvert_exporter": "python",
   "pygments_lexer": "ipython3",
   "version": "3.10.9"
  }
 },
 "nbformat": 4,
 "nbformat_minor": 5
}
